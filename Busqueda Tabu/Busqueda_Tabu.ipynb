{
  "nbformat": 4,
  "nbformat_minor": 0,
  "metadata": {
    "colab": {
      "name": "Busqueda Tabu.ipynb",
      "provenance": [],
      "collapsed_sections": []
    },
    "kernelspec": {
      "name": "python3",
      "display_name": "Python 3"
    }
  },
  "cells": [
    {
      "cell_type": "code",
      "metadata": {
        "id": "YYYq8-Ab9SxU"
      },
      "source": [
        "import random\r\n",
        "import copy\r\n",
        "import numpy as np"
      ],
      "execution_count": 1,
      "outputs": []
    },
    {
      "cell_type": "code",
      "metadata": {
        "id": "BgZFIaainRYt"
      },
      "source": [
        "def procesar_entrada(direccion_arcivo):\r\n",
        "  with open (direccion_arcivo) as entrada:\r\n",
        "    datos = entrada.read()\r\n",
        "  datos=datos.split('\\n')\r\n",
        "  n=int(datos[0])\r\n",
        "  i=int(datos[1])\r\n",
        "  matriz=[]\r\n",
        "  datos= datos[2::]\r\n",
        "  for j in range(n-1):\r\n",
        "    matriz.append([int(datos[j].split(' ')[i]) for i in range(len(datos[j].split(' ')))])\r\n",
        "  return(n,i,matriz)"
      ],
      "execution_count": 2,
      "outputs": []
    },
    {
      "cell_type": "code",
      "metadata": {
        "id": "9DOFLOgzrodg"
      },
      "source": [
        "#n,i,matriz = procesar_entrada('entrada.txt')"
      ],
      "execution_count": 3,
      "outputs": []
    },
    {
      "cell_type": "code",
      "metadata": {
        "id": "tTCipDqJJJwe"
      },
      "source": [
        "def obtener_distancia(ciudad1,ciudad2):\r\n",
        "  if ciudad2 > ciudad1:\r\n",
        "    return(matriz[ciudad1][(ciudad2-ciudad1-1)])\r\n",
        "  else:\r\n",
        "    return(matriz[ciudad2][ciudad1-ciudad2-1])"
      ],
      "execution_count": 4,
      "outputs": []
    },
    {
      "cell_type": "code",
      "metadata": {
        "id": "OgUk4JgduXc5"
      },
      "source": [
        "def inicial(matriz,n):\r\n",
        "  solucion=[0,] #como siempre se inicia en n0, puedo asumir que ya se tiene este elemento al inicio\r\n",
        "  solucion.append(matriz[0].index(min(matriz[0]))+1)\r\n",
        "  \r\n",
        "  for i in range (n-2): #para agregar las ciudades que nos faltan por visitar\r\n",
        "    por_visitar= [i for i in range(n) if i not in solucion] #lista con las ciudades que no hemos visitado\r\n",
        "    #print(por_visitar)\r\n",
        "    menor = 10e100 #aqui guardaremos la menor distancia de la ciudad actual a cualquir otra\r\n",
        "    siguiente = None #siguiente ciudad a visitar\r\n",
        "    for ciudad in por_visitar:\r\n",
        "      distancia= obtener_distancia(solucion[-1],ciudad)\r\n",
        "      if distancia < menor:\r\n",
        "        menor = distancia\r\n",
        "        siguiente = ciudad\r\n",
        "    solucion.append(siguiente)\r\n",
        "  return(solucion)\r\n"
      ],
      "execution_count": 5,
      "outputs": []
    },
    {
      "cell_type": "code",
      "metadata": {
        "id": "QgDzDOvoH6vY"
      },
      "source": [
        "#inicial=inicial()"
      ],
      "execution_count": 6,
      "outputs": []
    },
    {
      "cell_type": "code",
      "metadata": {
        "id": "3YDQ-Ub3EBiP"
      },
      "source": [
        "def costo_viaje(solucion):\r\n",
        "  global matriz\r\n",
        "  costo=0\r\n",
        "  for i in range(len(solucion)):\r\n",
        "    if i < len(solucion)-1:\r\n",
        "      costo +=obtener_distancia(solucion[i],solucion[i+1])\r\n",
        "    else:\r\n",
        "      costo += obtener_distancia(solucion[i],solucion[0])\r\n",
        "  return(costo)"
      ],
      "execution_count": 7,
      "outputs": []
    },
    {
      "cell_type": "code",
      "metadata": {
        "id": "wIUuVBUbECtM"
      },
      "source": [
        "#costo_viaje(inicial)"
      ],
      "execution_count": 8,
      "outputs": []
    },
    {
      "cell_type": "code",
      "metadata": {
        "id": "_r8Dtru-qi_R"
      },
      "source": [
        "def vecindario(solucion):\r\n",
        "  global n,tabu\r\n",
        "  cambiar = random.randint(1,n-1) #selecciona al azar que ciudad cambiar\r\n",
        "  x=True\r\n",
        "  while x==True: #ciclo para verificar si la ciudad seleccionada no esta en la lista tabu\r\n",
        "    no_permitido = [tabu[i][0] for i in range(len(tabu))] #sacamos de la lista tabu las posiciones no permitidas\r\n",
        "    if cambiar in no_permitido: #si no esta permitido mover la ciudad, selecciona otra\r\n",
        "      cambiar = random.randint(1,n-1)\r\n",
        "    else: x = False #si no esta prohibida, rompe el while\r\n",
        "\r\n",
        "  indices_a_cambiar= [i for i in range (n) if i != 0 and i != cambiar] #lista con las n-2 posiciones a donde se va a cambiar la ciudad\r\n",
        "  vecindario = []\r\n",
        "  for indice in indices_a_cambiar:\r\n",
        "    vecino = copy.deepcopy(solucion)\r\n",
        "    vecino[cambiar] = solucion[indice]\r\n",
        "    vecino[indice] = solucion[cambiar]\r\n",
        "    vecindario.append(vecino)\r\n",
        "  tabu.append([cambiar,n//2])\r\n",
        "  return(vecindario)"
      ],
      "execution_count": 9,
      "outputs": []
    },
    {
      "cell_type": "code",
      "metadata": {
        "id": "MVgm4vcoJOWH"
      },
      "source": [
        "#vecindario(inicial)"
      ],
      "execution_count": 10,
      "outputs": []
    },
    {
      "cell_type": "code",
      "metadata": {
        "id": "72TuFqvMdCuu"
      },
      "source": [
        "def actualizar_tabu(tabu):\r\n",
        "  tabu = [[tabu[i][0],tabu[i][1]-1] for i in range(len(tabu))]\r\n",
        "  for elemento in tabu:\r\n",
        "    if elemento[1] == 0:\r\n",
        "      tabu.pop(tabu.index(elemento))\r\n",
        "  return tabu"
      ],
      "execution_count": 11,
      "outputs": []
    },
    {
      "cell_type": "code",
      "metadata": {
        "id": "ENwN65VnRWgA"
      },
      "source": [
        "def obtener_mediana(m):\r\n",
        "  if m %2 == 0:\r\n",
        "    costos_ordenados= resultados.sort()\r\n",
        "    print(costos_ordenados)\r\n",
        "    elementos_medios = resultados.index(costos_ordenados[(m/2)]),resultados.index(costos_ordenados[(m/2-1)])\r\n",
        "    return(elementos_medios)\r\n"
      ],
      "execution_count": 12,
      "outputs": []
    },
    {
      "cell_type": "code",
      "metadata": {
        "id": "vngwuPfMZtsp"
      },
      "source": [
        "def imprimirResultados(resultados,m):\r\n",
        "  ordenados = sorted(resultados, key = lambda x : x[1])\r\n",
        "  media = np.mean([ordenados[i][1] for i in range(m)])\r\n",
        "  medianas = []\r\n",
        "  desviacion = np.std([ordenados[i][1] for i in range(m)])\r\n",
        "  print('Mejor viaje encontrado',ordenados[0][0], 'Con un costo de',ordenados[0][1])\r\n",
        "  print('Peor viaje enconratrado',ordenados[-1][0], 'Con un costo de',ordenados[-1][1])\r\n",
        "  if m %2 == 0:\r\n",
        "    medianas.append(ordenados[int(m/2)])\r\n",
        "    medianas.append(ordenados[int((m/2)-1)])\r\n",
        "    if medianas[0] == medianas[1]: #verificamos que los elementos de la mediana no sean el mismo\r\n",
        "      medianas.pop()\r\n",
        "      print('Mediana',medianas[0],'Que tiene costo de',medianas[1])\r\n",
        "    else:\r\n",
        "     print('Medianas',medianas[0][0],'Con costo de',medianas[0][1], 'y tambien',medianas[1][0],'con costo de',medianas[1][1])\r\n",
        "  else:\r\n",
        "    medianas.append(ordenados[int(m/2)])\r\n",
        "    print('Mediana',medianas[0],'Que tiene costo de',medianas[1])\r\n",
        "  print('Media del costo de los viajes encontrados',media)\r\n",
        "  print('Desviacion estandar de los resultados', desviacion)"
      ],
      "execution_count": 21,
      "outputs": []
    },
    {
      "cell_type": "code",
      "metadata": {
        "id": "4awt0GcTqzNK"
      },
      "source": [
        "def encontrar_mejor(vecinos):\r\n",
        "  mejor = vecinos[0]\r\n",
        "  costo = costo_viaje(mejor)\r\n",
        "  for vecino in vecinos:\r\n",
        "    if costo_viaje(vecino) < costo:\r\n",
        "      costo = costo_viaje(vecino)\r\n",
        "      mejor = vecino\r\n",
        "  return([mejor,costo])"
      ],
      "execution_count": 14,
      "outputs": []
    },
    {
      "cell_type": "code",
      "metadata": {
        "id": "laXWWUaa9Kyx"
      },
      "source": [
        "def busqueda_tabu(entrada,m):\r\n",
        "  global n,i,matriz,tabu,resultados\r\n",
        "  n,i,matriz = procesar_entrada(entrada)\r\n",
        "  solucion_inicial = inicial(matriz,n)\r\n",
        "  resultados = []\r\n",
        "  for j in range(m):\r\n",
        "    k=0\r\n",
        "    tabu=[]\r\n",
        "    menor_viaje = solucion_inicial\r\n",
        "    menor_costo = costo_viaje(solucion_inicial)\r\n",
        "    mejor_vecino = vecindario(solucion_inicial)\r\n",
        "    while k < i:\r\n",
        "      \r\n",
        "      vecinos = vecindario(mejor_vecino[0])\r\n",
        "      mejor_vecino = encontrar_mejor(vecinos)\r\n",
        "      \r\n",
        "      if mejor_vecino[1] < menor_costo:\r\n",
        "        menor_costo = mejor_vecino[1]\r\n",
        "        menor_viaje  = mejor_vecino[0]\r\n",
        "      k += 1\r\n",
        "      vecindario1=None\r\n",
        "      tabu = actualizar_tabu(tabu)\r\n",
        "    resultados.append([menor_viaje,menor_costo])\r\n",
        "  #print(resultados)\r\n",
        "  imprimirResultados(resultados,m)"
      ],
      "execution_count": 15,
      "outputs": []
    },
    {
      "cell_type": "code",
      "metadata": {
        "colab": {
          "base_uri": "https://localhost:8080/"
        },
        "id": "PxdyNTwoVE-M",
        "outputId": "bda20223-6132-4977-f465-d6c159c67dc4"
      },
      "source": [
        "busqueda_tabu('entrada.txt',8)"
      ],
      "execution_count": 22,
      "outputs": [
        {
          "output_type": "stream",
          "text": [
            "Mejor viaje encontrado [0, 3, 8, 9, 6, 2, 7, 4, 1, 5] Con un costo de 254\n",
            "Peor viaje enconratrado [0, 5, 3, 8, 9, 6, 2, 7, 1, 4] Con un costo de 271\n",
            "Medianas [0, 5, 3, 8, 9, 6, 2, 7, 1, 4] Con costo de 271 y tambien [0, 2, 7, 6, 9, 8, 3, 4, 1, 5] con costo de 269\n",
            "Media del costo de los viajes encontrados 264.375\n",
            "Desviacion estandar de los resultados 8.061288668693114\n"
          ],
          "name": "stdout"
        }
      ]
    },
    {
      "cell_type": "code",
      "metadata": {
        "id": "1FG9JmwfukJQ"
      },
      "source": [
        ""
      ],
      "execution_count": 16,
      "outputs": []
    }
  ]
}