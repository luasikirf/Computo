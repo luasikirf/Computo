{
  "nbformat": 4,
  "nbformat_minor": 0,
  "metadata": {
    "colab": {
      "name": "Recocido.ipynb",
      "provenance": [],
      "collapsed_sections": []
    },
    "kernelspec": {
      "display_name": "Python 3",
      "language": "python",
      "name": "python3"
    },
    "language_info": {
      "codemirror_mode": {
        "name": "ipython",
        "version": 3
      },
      "file_extension": ".py",
      "mimetype": "text/x-python",
      "name": "python",
      "nbconvert_exporter": "python",
      "pygments_lexer": "ipython3",
      "version": "3.7.4"
    }
  },
  "cells": [
    {
      "cell_type": "code",
      "metadata": {
        "id": "vq9dZTPJv7xb"
      },
      "source": [
        "import numpy as np\n",
        "import random\n",
        "import copy\n",
        "from math import e"
      ],
      "execution_count": 20,
      "outputs": []
    },
    {
      "cell_type": "code",
      "metadata": {
        "id": "wxYMfxHPwR9t"
      },
      "source": [
        "def procesar_entrada(direccion_arcivo : str):\n",
        "    with open (direccion_arcivo) as entrada:\n",
        "        datos = entrada.read()\n",
        "    datos=datos.split('\\n')\n",
        "    temp_inicial,temp_final =[float(_) for _ in datos[0].split(' ')]\n",
        "    objetos = int(datos[1])\n",
        "    capacidad = int(datos[2])\n",
        "    p_w= []\n",
        "    for i in range(3,len(datos)):\n",
        "        p_w.insert(i, [int(datos[i].split(' ')[0]),int(datos[i].split(' ')[1])] ) \n",
        "    return(temp_inicial,temp_final,objetos,capacidad,p_w)"
      ],
      "execution_count": 21,
      "outputs": []
    },
    {
      "cell_type": "code",
      "metadata": {
        "id": "VlQniVgPyH8x"
      },
      "source": [
        "def peso(solucion):\n",
        "    \"\"\"\n",
        "    obtiene el peso de una solucion\n",
        "    \"\"\"\n",
        "    global p_w\n",
        "    peso = sum([ p_w[i][1] for i in range(len(solucion)) if solucion[i] == 1 ])\n",
        "    return(peso)"
      ],
      "execution_count": 22,
      "outputs": []
    },
    {
      "cell_type": "code",
      "metadata": {
        "id": "lIUA8h_nzNMQ"
      },
      "source": [
        "def valor(solucion):\n",
        "  \"\"\"\n",
        "  obtiene el valor de una solucion\n",
        "  \"\"\"\n",
        "  global p_w\n",
        "  valor = sum([ p_w[i][0] for i in range(len(solucion)) if solucion[i] == 1 ])\n",
        "  return(valor)"
      ],
      "execution_count": 23,
      "outputs": []
    },
    {
      "cell_type": "code",
      "metadata": {
        "id": "LVmJAgm7wSB2"
      },
      "source": [
        "def inicial(N_objetos : int, capacidad : int ,p_w ):\n",
        "  \"\"\"\n",
        "  crea la solucion inicial, agregando objetos aleatoreamente mientras el peso no supere a la capacidad,\n",
        "  se detiene cuando el peso es igual a la capacidad, o cuando no puede meter mas elementos, ya que al\n",
        "  intentar meterlos se excede la capacidad.\n",
        "  \"\"\"\n",
        "  solucion = [0 for i in range(N_objetos)]\n",
        "  posibles_objetos=[i for i in range(N_objetos)] #indices e los objetos que se pueden meter a la mochila\n",
        "  peso_m = peso(solucion)\n",
        "  while peso_m < capacidad:\n",
        "      #print(posibles_objetos)\n",
        "      if posibles_objetos == []:\n",
        "          return solucion\n",
        "          break\n",
        "      else:\n",
        "          meter_objeto = random.choice(posibles_objetos)\n",
        "          solucion[meter_objeto] = 1\n",
        "          #print(solucion,'despues intentar meter')\n",
        "          if peso(solucion) > capacidad:\n",
        "              solucion[meter_objeto] = 0\n",
        "                # si al meter un objeto, el peso es mayor a la capacidad, lo quitamos para no volver a escogerlo edspues\n",
        "          else:\n",
        "              peso_m  = peso(solucion)\n",
        "          posibles_objetos.remove(meter_objeto)\n",
        "  return solucion"
      ],
      "execution_count": 24,
      "outputs": []
    },
    {
      "cell_type": "code",
      "metadata": {
        "id": "8smmJvA-xP8T"
      },
      "source": [
        "def vecindario(solucion):\n",
        "  \"\"\"\n",
        "  crea el vecindario de una solucion, solo se toman las soluciones validas, despues devuelve una solucion al azar\n",
        "  \"\"\"\n",
        "  global capacidad\n",
        "  vecindario = []\n",
        "  for i in range(len(solucion)) :\n",
        "      vecino = copy.deepcopy(solucion)\n",
        "      if vecino[i] == 0:\n",
        "          vecino[i] = 1\n",
        "          if peso(vecino) < capacidad:\n",
        "              vecindario.append(vecino)\n",
        "      else:\n",
        "          vecino[i] = 0\n",
        "          if peso(vecino) < capacidad:\n",
        "              vecindario.append(vecino)\n",
        "  return(random.choice(vecindario)) #regresamos un vecino al azar como dice el manual"
      ],
      "execution_count": 25,
      "outputs": []
    },
    {
      "cell_type": "code",
      "metadata": {
        "id": "knkMCHXzl8i8"
      },
      "source": [
        "def objetos_en_mochila(solucion):\n",
        "  \"\"\" indica cuales objetos estan en lamochina, consierando una solucion \"\"\"\n",
        "  return([ i for i in range(len(solucion)) if (solucion[i] == 1)])"
      ],
      "execution_count": 26,
      "outputs": []
    },
    {
      "cell_type": "code",
      "metadata": {
        "id": "Yd2Fp20e6XQh"
      },
      "source": [
        "def imprimirResultados(resultados,m):\n",
        "    ordenados = sorted(resultados, key = lambda x : x[1], reverse=True)\n",
        "    media = np.mean([ordenados[i][1] for i in range(m)])\n",
        "    medianas = []\n",
        "    desviacion = np.std([ordenados[i][1] for i in range(m)])\n",
        "    print('Mejor solucion encontrada')\n",
        "    print(objetos_en_mochila(ordenados[0][0]),ordenados[0][0])\n",
        "    print('{} {} \\n{} {}'.format('Con un valor de',ordenados[0][1],\n",
        "                             'Y un peso de',ordenados[0][2] ),'\\n' )\n",
        "    \n",
        "    print('Peor solución encontrada')\n",
        "    print(objetos_en_mochila(ordenados[-1][0]),ordenados[-1][0])\n",
        "    print('{} {} \\n{} {}'.format('Con un valor de',ordenados[-1][1],\n",
        "                                 'Y un peso de',ordenados[-1][2]\n",
        "                                ),'\\n')\n",
        "    if m %2 == 0:\n",
        "        medianas.append(ordenados[int(m/2)])\n",
        "        medianas.append(ordenados[int((m/2)-1)])\n",
        "        if medianas[0] == medianas[1]: #verificamos que los elementos de la mediana no sean el mismo\n",
        "            medianas.pop()\n",
        "            print('Mediana')\n",
        "            print(objetos_en_mochila(medianas[0][0]),medianas[0][0])\n",
        "            print('{} {} \\n{} {}'.format('Con un valor de',medianas[0][1],\n",
        "                                 'Y un peso de',medianas[0][2]\n",
        "                                ),'\\n')\n",
        "        else:\n",
        "            print('{} \\n{} {} y {} {}'.format('Medianas',objetos_en_mochila(medianas[0][0]),medianas[0][0],\n",
        "                                                      objetos_en_mochila(medianas[0][0]),medianas[1][0] ))\n",
        "            print('{} {} \\n{} {} y {}'.format('Con un valor de',medianas[0][1],\n",
        "                                 'Y un pesos de',medianas[0][2],medianas[1][2]\n",
        "                                ))                     \n",
        "    else:\n",
        "        medianas.append(ordenados[int(m//2)])\n",
        "        print('Mediana')\n",
        "        print(objetos_en_mochila(medianas[0][0]), medianas[0][0])\n",
        "        print('{} {} \\n{} {}'.format('Con un valor de',medianas[0][1],\n",
        "                                 'Y un peso de',medianas[0][2]\n",
        "                                ))\n",
        "    print('Media del valor de las soluciones encontradas',media,'\\n')\n",
        "    print('Desviacion estandar de los resultados', desviacion)"
      ],
      "execution_count": 27,
      "outputs": []
    },
    {
      "cell_type": "code",
      "metadata": {
        "id": "XSb7b4wBCXxF"
      },
      "source": [
        "def recocido(entrada : dir, m : int):\n",
        "    global p_w, capacidad\n",
        "    soluciones = []\n",
        "    for i in range(m):\n",
        "        t_inicial,t_final,N_objetos,capacidad,p_w = procesar_entrada(entrada)\n",
        "        s_inicial = inicial(N_objetos,capacidad, p_w)\n",
        "        x_t = s_inicial\n",
        "        valor_x_t=valor(x_t)\n",
        "        mejor_valor = valor(s_inicial)\n",
        "        mejor_s = s_inicial\n",
        "        peso_mejor_s = peso(mejor_s)\n",
        "        t_actual = t_inicial\n",
        "        while t_actual >= t_final:\n",
        "            y = vecindario(x_t)\n",
        "            y_valor = valor(y)\n",
        "            if y_valor > mejor_valor:\n",
        "                mejor_valor  = y_valor\n",
        "                mejor_s = y\n",
        "                peso_mejor_s = peso(y)\n",
        "            else:\n",
        "                if y_valor >= valor_x_t or random.random() < e**( (-(valor_x_t - y_valor)/t_actual)   ):\n",
        "                    x_t = y\n",
        "                    valor_x_t = y_valor \n",
        "            t_actual = t_actual * 0.99\n",
        "        soluciones.append([mejor_s,mejor_valor,peso_mejor_s])\n",
        "    imprimirResultados(soluciones,m)"
      ],
      "execution_count": 28,
      "outputs": []
    },
    {
      "cell_type": "code",
      "metadata": {
        "id": "fZOFrp1SCdV0",
        "scrolled": true,
        "colab": {
          "base_uri": "https://localhost:8080/"
        },
        "outputId": "44340771-dd80-476b-b117-50b914c078da"
      },
      "source": [
        "recocido('recocido.txt',100)"
      ],
      "execution_count": 30,
      "outputs": [
        {
          "output_type": "stream",
          "text": [
            "Mejor solucion encontrada\n",
            "[0, 1, 4] [1, 1, 0, 0, 1]\n",
            "Con un valor de 42 \n",
            "Y un peso de 15 \n",
            "\n",
            "Peor solución encontrada\n",
            "[1, 4] [0, 1, 0, 0, 1]\n",
            "Con un valor de 37 \n",
            "Y un peso de 13 \n",
            "\n",
            "Mediana\n",
            "[1, 4] [0, 1, 0, 0, 1]\n",
            "Con un valor de 37 \n",
            "Y un peso de 13 \n",
            "\n",
            "Media del valor de las soluciones encontradas 38.7 \n",
            "\n",
            "Desviacion estandar de los resultados 2.3685438564654016\n"
          ],
          "name": "stdout"
        }
      ]
    },
    {
      "cell_type": "code",
      "metadata": {
        "id": "_jED4I4Aou05"
      },
      "source": [
        ""
      ],
      "execution_count": null,
      "outputs": []
    }
  ]
}